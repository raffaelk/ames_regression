{
 "cells": [
  {
   "cell_type": "markdown",
   "id": "alpine-earthquake",
   "metadata": {},
   "source": [
    "# House Price Prediction with Scikit-Learn\n",
    "\n",
    "The goal of this project is to predict house prices from a set of variables explaining each home. This is a famous machine-learning challenge hosted on kaggle. It is ideal to test some ML concept on real world data. More information can be found on the competition's [kaggle-page](https://www.kaggle.com/c/house-prices-advanced-regression-techniques)."
   ]
  },
  {
   "cell_type": "code",
   "execution_count": 1,
   "id": "numerous-whale",
   "metadata": {},
   "outputs": [],
   "source": [
    "import pandas as pd\n",
    "import numpy as np\n",
    "\n",
    "import os\n",
    "\n",
    "from sklearn.model_selection import train_test_split\n",
    "\n",
    "from sklearn.impute import SimpleImputer \n",
    "from sklearn.preprocessing import StandardScaler\n",
    "from sklearn.model_selection import GridSearchCV\n",
    "from sklearn.metrics import mean_squared_error\n",
    "from sklearn.pipeline import Pipeline\n",
    "from sklearn.linear_model import Ridge"
   ]
  },
  {
   "cell_type": "markdown",
   "id": "piano-drawing",
   "metadata": {},
   "source": [
    "## Dataset"
   ]
  },
  {
   "cell_type": "code",
   "execution_count": 2,
   "id": "remarkable-charter",
   "metadata": {},
   "outputs": [],
   "source": [
    "# get train and test data set\n",
    "data_loc = './data'\n",
    "\n",
    "train_data_base = pd.read_csv(os.path.join(data_loc,'train.csv'), index_col='Id')\n",
    "test_data_base = pd.read_csv(os.path.join(data_loc,'test.csv'), index_col='Id')"
   ]
  },
  {
   "cell_type": "code",
   "execution_count": 3,
   "id": "deluxe-trust",
   "metadata": {},
   "outputs": [],
   "source": [
    "# split a validation set from the full train set\n",
    "train_set, val_set = train_test_split(train_data_base, test_size=0.2, random_state=42)\n",
    "\n",
    "# copy the test set for preprocessing\n",
    "test_set = test_data_base.copy()"
   ]
  },
  {
   "cell_type": "code",
   "execution_count": 4,
   "id": "smaller-scoop",
   "metadata": {},
   "outputs": [
    {
     "name": "stdout",
     "output_type": "stream",
     "text": [
      "<class 'pandas.core.frame.DataFrame'>\n",
      "Int64Index: 1460 entries, 1 to 1460\n",
      "Data columns (total 80 columns):\n",
      " #   Column         Non-Null Count  Dtype  \n",
      "---  ------         --------------  -----  \n",
      " 0   MSSubClass     1460 non-null   int64  \n",
      " 1   MSZoning       1460 non-null   object \n",
      " 2   LotFrontage    1201 non-null   float64\n",
      " 3   LotArea        1460 non-null   int64  \n",
      " 4   Street         1460 non-null   object \n",
      " 5   Alley          91 non-null     object \n",
      " 6   LotShape       1460 non-null   object \n",
      " 7   LandContour    1460 non-null   object \n",
      " 8   Utilities      1460 non-null   object \n",
      " 9   LotConfig      1460 non-null   object \n",
      " 10  LandSlope      1460 non-null   object \n",
      " 11  Neighborhood   1460 non-null   object \n",
      " 12  Condition1     1460 non-null   object \n",
      " 13  Condition2     1460 non-null   object \n",
      " 14  BldgType       1460 non-null   object \n",
      " 15  HouseStyle     1460 non-null   object \n",
      " 16  OverallQual    1460 non-null   int64  \n",
      " 17  OverallCond    1460 non-null   int64  \n",
      " 18  YearBuilt      1460 non-null   int64  \n",
      " 19  YearRemodAdd   1460 non-null   int64  \n",
      " 20  RoofStyle      1460 non-null   object \n",
      " 21  RoofMatl       1460 non-null   object \n",
      " 22  Exterior1st    1460 non-null   object \n",
      " 23  Exterior2nd    1460 non-null   object \n",
      " 24  MasVnrType     1452 non-null   object \n",
      " 25  MasVnrArea     1452 non-null   float64\n",
      " 26  ExterQual      1460 non-null   object \n",
      " 27  ExterCond      1460 non-null   object \n",
      " 28  Foundation     1460 non-null   object \n",
      " 29  BsmtQual       1423 non-null   object \n",
      " 30  BsmtCond       1423 non-null   object \n",
      " 31  BsmtExposure   1422 non-null   object \n",
      " 32  BsmtFinType1   1423 non-null   object \n",
      " 33  BsmtFinSF1     1460 non-null   int64  \n",
      " 34  BsmtFinType2   1422 non-null   object \n",
      " 35  BsmtFinSF2     1460 non-null   int64  \n",
      " 36  BsmtUnfSF      1460 non-null   int64  \n",
      " 37  TotalBsmtSF    1460 non-null   int64  \n",
      " 38  Heating        1460 non-null   object \n",
      " 39  HeatingQC      1460 non-null   object \n",
      " 40  CentralAir     1460 non-null   object \n",
      " 41  Electrical     1459 non-null   object \n",
      " 42  1stFlrSF       1460 non-null   int64  \n",
      " 43  2ndFlrSF       1460 non-null   int64  \n",
      " 44  LowQualFinSF   1460 non-null   int64  \n",
      " 45  GrLivArea      1460 non-null   int64  \n",
      " 46  BsmtFullBath   1460 non-null   int64  \n",
      " 47  BsmtHalfBath   1460 non-null   int64  \n",
      " 48  FullBath       1460 non-null   int64  \n",
      " 49  HalfBath       1460 non-null   int64  \n",
      " 50  BedroomAbvGr   1460 non-null   int64  \n",
      " 51  KitchenAbvGr   1460 non-null   int64  \n",
      " 52  KitchenQual    1460 non-null   object \n",
      " 53  TotRmsAbvGrd   1460 non-null   int64  \n",
      " 54  Functional     1460 non-null   object \n",
      " 55  Fireplaces     1460 non-null   int64  \n",
      " 56  FireplaceQu    770 non-null    object \n",
      " 57  GarageType     1379 non-null   object \n",
      " 58  GarageYrBlt    1379 non-null   float64\n",
      " 59  GarageFinish   1379 non-null   object \n",
      " 60  GarageCars     1460 non-null   int64  \n",
      " 61  GarageArea     1460 non-null   int64  \n",
      " 62  GarageQual     1379 non-null   object \n",
      " 63  GarageCond     1379 non-null   object \n",
      " 64  PavedDrive     1460 non-null   object \n",
      " 65  WoodDeckSF     1460 non-null   int64  \n",
      " 66  OpenPorchSF    1460 non-null   int64  \n",
      " 67  EnclosedPorch  1460 non-null   int64  \n",
      " 68  3SsnPorch      1460 non-null   int64  \n",
      " 69  ScreenPorch    1460 non-null   int64  \n",
      " 70  PoolArea       1460 non-null   int64  \n",
      " 71  PoolQC         7 non-null      object \n",
      " 72  Fence          281 non-null    object \n",
      " 73  MiscFeature    54 non-null     object \n",
      " 74  MiscVal        1460 non-null   int64  \n",
      " 75  MoSold         1460 non-null   int64  \n",
      " 76  YrSold         1460 non-null   int64  \n",
      " 77  SaleType       1460 non-null   object \n",
      " 78  SaleCondition  1460 non-null   object \n",
      " 79  SalePrice      1460 non-null   int64  \n",
      "dtypes: float64(3), int64(34), object(43)\n",
      "memory usage: 923.9+ KB\n"
     ]
    }
   ],
   "source": [
    "train_data_base.info()"
   ]
  },
  {
   "cell_type": "markdown",
   "id": "adjacent-superintendent",
   "metadata": {},
   "source": [
    "## Preprocessing\n",
    "\n",
    "The same preprocessing steps are applied independently to the train, test and validation set."
   ]
  },
  {
   "cell_type": "markdown",
   "id": "medieval-frost",
   "metadata": {},
   "source": [
    "The data set containes nummerical and categorical values. There are a few features that have a grading system in words, which can easily be ranked, like from \"poor\" to \"excellent\". These can be mapped to a numerical value."
   ]
  },
  {
   "cell_type": "code",
   "execution_count": 5,
   "id": "manual-lodging",
   "metadata": {},
   "outputs": [],
   "source": [
    "# mapping categorical to numerical features\n",
    "map1 = {'Reg':0, 'IR1': 1, 'IR2':2, 'IR3':3}\n",
    "map2 = {'Po':0, 'Fa':1, 'TA':2, 'Gd': 3, 'Ex':4}\n",
    "map3 = {'Gtl':0, 'Mod':1, 'Sev':2}\n",
    "map4 = {'NA':0, 'Po':1, 'Fa':2, 'TA':3, 'Gd': 4, 'Ex':5}\n",
    "map5 = {'NA':0, 'No':1, 'Mn':2, 'Av':3, 'Gd': 4}\n",
    "map6 = {'NA':0, 'Unf':1, 'LwQ':2, 'Rec':3, 'BLQ': 4, 'ALQ':5, 'GLQ':6}\n",
    "map7 = {'NA':0, 'Unf':1, 'RFn':2, 'Fin':3}\n",
    "map8 = {'N':0, 'P':1, 'Y':2}\n",
    "map9 = {'NA':0, 'Fa':1, 'TA':2, 'Gd':3, 'Ex':4}\n",
    "\n",
    "def MapNumerical(feature, mapping):\n",
    "    train_set.loc[:, feature] = train_set[feature].map(mapping)\n",
    "    val_set.loc[:, feature] = val_set[feature].map(mapping)\n",
    "    test_set.loc[:, feature] = test_set[feature].map(mapping)"
   ]
  },
  {
   "cell_type": "code",
   "execution_count": 18,
   "id": "completed-effort",
   "metadata": {},
   "outputs": [],
   "source": [
    "# assign the maps to the according categorical features\n",
    "map_feature_lst = [('LotShape', map1), ('HeatingQC', map2), ('KitchenQual', map2), ('LandSlope', map3),\n",
    "                   ('ExterQual', map2), ('ExterCond', map2), ('BsmtQual', map4), ('BsmtCond', map4), \n",
    "                   ('BsmtExposure', map5), ('BsmtFinType1', map6), ('BsmtFinType2', map6), ('FireplaceQu', map4),\n",
    "                   ('GarageFinish', map7), ('GarageQual', map4), ('GarageCond', map4), ('PavedDrive', map8),\n",
    "                   ('PoolQC', map9)]\n",
    "\n",
    "for feature, mapping in map_feature_lst:\n",
    "    MapNumerical(feature, mapping)"
   ]
  },
  {
   "cell_type": "markdown",
   "id": "different-colombia",
   "metadata": {},
   "source": [
    "Also binary values can directely be encoded to 1/0 values."
   ]
  },
  {
   "cell_type": "code",
   "execution_count": 7,
   "id": "fifth-passion",
   "metadata": {},
   "outputs": [],
   "source": [
    "binmap1 = {'Grvl':0, 'Pave':1}\n",
    "binmap2 = {'N':0, 'Y':1}\n",
    "\n",
    "MapNumerical('Street', binmap1)\n",
    "MapNumerical('CentralAir', binmap2)"
   ]
  },
  {
   "cell_type": "markdown",
   "id": "excellent-reserve",
   "metadata": {},
   "source": [
    "## ML Model\n",
    "We can now extract the numerical features and build a model with them. For the sake of simplicity the remaining categorical features are neglected. Also the engineering of more sophisticated features will not be done in this notebook."
   ]
  },
  {
   "cell_type": "code",
   "execution_count": 8,
   "id": "northern-stranger",
   "metadata": {},
   "outputs": [],
   "source": [
    "# get a list of all features which are now numerical\n",
    "features_num = train_set.select_dtypes(include=['float64', 'int64']).columns.drop(['SalePrice']).tolist()"
   ]
  },
  {
   "cell_type": "markdown",
   "id": "unavailable-conflict",
   "metadata": {},
   "source": [
    "These featues are now used to predict the sale price, or rather the log of the sale price. This is according to the evaluation criteria of this competition and should scale the house prices."
   ]
  },
  {
   "cell_type": "code",
   "execution_count": 9,
   "id": "preceding-adjustment",
   "metadata": {},
   "outputs": [],
   "source": [
    "# define train, val and test data\n",
    "X_train = train_set[features_num].to_numpy()\n",
    "y_train = np.log(train_set['SalePrice']).to_numpy()\n",
    "\n",
    "X_val = val_set[features_num].to_numpy()\n",
    "y_val = np.log(val_set['SalePrice']).to_numpy()\n",
    "\n",
    "X_test = test_set[features_num].to_numpy()"
   ]
  },
  {
   "cell_type": "code",
   "execution_count": 10,
   "id": "polish-plasma",
   "metadata": {},
   "outputs": [],
   "source": [
    "# set up the ML pipeline\n",
    "\n",
    "# imputing strategy for missing values\n",
    "imputer = SimpleImputer(missing_values=np.nan)\n",
    "\n",
    "# scale values\n",
    "scaler = StandardScaler()\n",
    "\n",
    "# regression\n",
    "regressor = Ridge()\n",
    "\n",
    "# pipeline\n",
    "pipe = Pipeline([('imputer', imputer), ('scaler', scaler), ('regressor', regressor)])"
   ]
  },
  {
   "cell_type": "code",
   "execution_count": 11,
   "id": "verbal-mozambique",
   "metadata": {},
   "outputs": [
    {
     "name": "stdout",
     "output_type": "stream",
     "text": [
      "{'imputer__strategy': 'mean', 'regressor__alpha': 100}\n"
     ]
    }
   ],
   "source": [
    "# tune hyperparameters with cross validation\n",
    "param_grid = {'regressor__alpha':[0.001, 0.01, 0.1, 1, 10, 50, 100, 500, 1000], \n",
    "              'imputer__strategy':['mean', 'median']}\n",
    "\n",
    "search = GridSearchCV(pipe, param_grid, scoring='neg_mean_squared_error', n_jobs=-1)\n",
    "search.fit(X_train,y_train)\n",
    "\n",
    "print(search.best_params_)"
   ]
  },
  {
   "cell_type": "code",
   "execution_count": 12,
   "id": "civic-suspension",
   "metadata": {},
   "outputs": [
    {
     "data": {
      "text/plain": [
       "Pipeline(steps=[('imputer', SimpleImputer()), ('scaler', StandardScaler()),\n",
       "                ('regressor', Ridge(alpha=100))])"
      ]
     },
     "execution_count": 12,
     "metadata": {},
     "output_type": "execute_result"
    }
   ],
   "source": [
    "# apply the best hyperparameters to the model and fit it to the train data\n",
    "pipe.set_params(regressor__alpha=search.best_params_['regressor__alpha'],\n",
    "               imputer__strategy=search.best_params_['imputer__strategy'])\n",
    "pipe.fit(X_train,y_train)"
   ]
  },
  {
   "cell_type": "markdown",
   "id": "premier-ensemble",
   "metadata": {},
   "source": [
    "## Evaluate the Model\n",
    "\n",
    "Now we use the validation set to evaluate the model and create a prediction for the test set, which then can be loaded to the kaggle competition page."
   ]
  },
  {
   "cell_type": "code",
   "execution_count": 13,
   "id": "existing-rogers",
   "metadata": {},
   "outputs": [
    {
     "data": {
      "text/plain": [
       "0.14762297810024838"
      ]
     },
     "execution_count": 13,
     "metadata": {},
     "output_type": "execute_result"
    }
   ],
   "source": [
    "y_val_pred = pipe.predict(X_val)\n",
    "\n",
    "# root mean squared error for the log scaled prices\n",
    "np.sqrt(mean_squared_error(y_val, y_val_pred))"
   ]
  },
  {
   "cell_type": "code",
   "execution_count": 14,
   "id": "absolute-tractor",
   "metadata": {},
   "outputs": [
    {
     "data": {
      "text/plain": [
       "27914.038546602194"
      ]
     },
     "execution_count": 14,
     "metadata": {},
     "output_type": "execute_result"
    }
   ],
   "source": [
    "# the root mean squared error for the unscaled prices\n",
    "np.sqrt(mean_squared_error(np.exp(y_val), np.exp(y_val_pred)))"
   ]
  },
  {
   "cell_type": "code",
   "execution_count": 15,
   "id": "shaped-sport",
   "metadata": {},
   "outputs": [],
   "source": [
    "# predict the prices for the test set\n",
    "y_test_pred = np.exp(pipe.predict(X_test))"
   ]
  },
  {
   "cell_type": "code",
   "execution_count": 16,
   "id": "recorded-assessment",
   "metadata": {},
   "outputs": [],
   "source": [
    "# create the submission file for the kaggle competition\n",
    "submission = pd.DataFrame(y_test_pred, columns=['SalePrice'])\n",
    "submission['Id'] = test_data_base.index\n",
    "submission['Id'].astype('int')\n",
    "\n",
    "submission.to_csv(os.path.join(data_loc,'submission.csv'), index=None)"
   ]
  },
  {
   "cell_type": "markdown",
   "id": "synthetic-dynamics",
   "metadata": {},
   "source": [
    "The submission scored 0.14672 on the public leader board, which is pretty close to the estimated score with the validation set."
   ]
  },
  {
   "cell_type": "markdown",
   "id": "educated-accent",
   "metadata": {},
   "source": [
    "## Conclusion\n",
    "\n",
    "This notebook showcases just a very simple regression model using scikit-learn. This result can be used a s baseline to compare other models to. A few possibilities to improve the score:\n",
    "\n",
    "- Include the remaining categorical features.\n",
    "- Design some 'hand-crafted' features.\n",
    "- Evaluate feature importance and select only the most important few.\n",
    "- Use a more sophisticated regression model (e.g. kernel regression, random forest, adaboost...)\n"
   ]
  }
 ],
 "metadata": {
  "kernelspec": {
   "display_name": "Python 3",
   "language": "python",
   "name": "python3"
  },
  "language_info": {
   "codemirror_mode": {
    "name": "ipython",
    "version": 3
   },
   "file_extension": ".py",
   "mimetype": "text/x-python",
   "name": "python",
   "nbconvert_exporter": "python",
   "pygments_lexer": "ipython3",
   "version": "3.8.3"
  }
 },
 "nbformat": 4,
 "nbformat_minor": 5
}
