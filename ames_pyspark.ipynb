{
 "cells": [
  {
   "cell_type": "markdown",
   "id": "careful-block",
   "metadata": {},
   "source": [
    "# House Price Prediction with PySpark"
   ]
  },
  {
   "cell_type": "code",
   "execution_count": 67,
   "id": "registered-diameter",
   "metadata": {},
   "outputs": [],
   "source": [
    "import os\n",
    "\n",
    "from pyspark.ml.feature import Imputer\n",
    "\n",
    "from pyspark.ml import Pipeline\n",
    "\n",
    "from pyspark.sql import SparkSession\n",
    "from pyspark.sql.types import DoubleType\n",
    "\n",
    "from pyspark.mllib.regression import RidgeRegressionWithSGD\n",
    "\n",
    "from pyspark.ml.feature import VectorAssembler"
   ]
  },
  {
   "cell_type": "code",
   "execution_count": null,
   "id": "incorrect-european",
   "metadata": {},
   "outputs": [],
   "source": [
    "spark = SparkSession.builder.getOrCreate()"
   ]
  },
  {
   "cell_type": "code",
   "execution_count": 2,
   "id": "finished-diving",
   "metadata": {},
   "outputs": [
    {
     "data": {
      "text/plain": [
       "[]"
      ]
     },
     "execution_count": 2,
     "metadata": {},
     "output_type": "execute_result"
    }
   ],
   "source": [
    "spark.catalog.listTables()"
   ]
  },
  {
   "cell_type": "code",
   "execution_count": 3,
   "id": "superior-introduction",
   "metadata": {},
   "outputs": [],
   "source": [
    "# get train and test data set\n",
    "data_loc = './data'\n",
    "\n",
    "train_data_base = spark.read.csv(os.path.join(data_loc,'train.csv'), inferSchema=True, header=True)\n",
    "test_data_base = spark.read.csv(os.path.join(data_loc,'test.csv'), inferSchema=True, header=True)"
   ]
  },
  {
   "cell_type": "markdown",
   "id": "exotic-burner",
   "metadata": {},
   "source": [
    "## some examples"
   ]
  },
  {
   "cell_type": "code",
   "execution_count": 16,
   "id": "intense-shakespeare",
   "metadata": {
    "scrolled": false
   },
   "outputs": [
    {
     "data": {
      "text/html": [
       "<div>\n",
       "<style scoped>\n",
       "    .dataframe tbody tr th:only-of-type {\n",
       "        vertical-align: middle;\n",
       "    }\n",
       "\n",
       "    .dataframe tbody tr th {\n",
       "        vertical-align: top;\n",
       "    }\n",
       "\n",
       "    .dataframe thead th {\n",
       "        text-align: right;\n",
       "    }\n",
       "</style>\n",
       "<table border=\"1\" class=\"dataframe\">\n",
       "  <thead>\n",
       "    <tr style=\"text-align: right;\">\n",
       "      <th></th>\n",
       "      <th>summary</th>\n",
       "      <th>Id</th>\n",
       "      <th>MSSubClass</th>\n",
       "      <th>MSZoning</th>\n",
       "      <th>LotFrontage</th>\n",
       "      <th>LotArea</th>\n",
       "      <th>Street</th>\n",
       "      <th>Alley</th>\n",
       "      <th>LotShape</th>\n",
       "      <th>LandContour</th>\n",
       "      <th>...</th>\n",
       "      <th>PoolArea</th>\n",
       "      <th>PoolQC</th>\n",
       "      <th>Fence</th>\n",
       "      <th>MiscFeature</th>\n",
       "      <th>MiscVal</th>\n",
       "      <th>MoSold</th>\n",
       "      <th>YrSold</th>\n",
       "      <th>SaleType</th>\n",
       "      <th>SaleCondition</th>\n",
       "      <th>SalePrice</th>\n",
       "    </tr>\n",
       "  </thead>\n",
       "  <tbody>\n",
       "    <tr>\n",
       "      <th>0</th>\n",
       "      <td>count</td>\n",
       "      <td>1460</td>\n",
       "      <td>1460</td>\n",
       "      <td>1460</td>\n",
       "      <td>1460</td>\n",
       "      <td>1460</td>\n",
       "      <td>1460</td>\n",
       "      <td>1460</td>\n",
       "      <td>1460</td>\n",
       "      <td>1460</td>\n",
       "      <td>...</td>\n",
       "      <td>1460</td>\n",
       "      <td>1460</td>\n",
       "      <td>1460</td>\n",
       "      <td>1460</td>\n",
       "      <td>1460</td>\n",
       "      <td>1460</td>\n",
       "      <td>1460</td>\n",
       "      <td>1460</td>\n",
       "      <td>1460</td>\n",
       "      <td>1460</td>\n",
       "    </tr>\n",
       "    <tr>\n",
       "      <th>1</th>\n",
       "      <td>mean</td>\n",
       "      <td>730.5</td>\n",
       "      <td>56.897260273972606</td>\n",
       "      <td>None</td>\n",
       "      <td>70.04995836802665</td>\n",
       "      <td>10516.828082191782</td>\n",
       "      <td>None</td>\n",
       "      <td>None</td>\n",
       "      <td>None</td>\n",
       "      <td>None</td>\n",
       "      <td>...</td>\n",
       "      <td>2.758904109589041</td>\n",
       "      <td>None</td>\n",
       "      <td>None</td>\n",
       "      <td>None</td>\n",
       "      <td>43.489041095890414</td>\n",
       "      <td>6.321917808219178</td>\n",
       "      <td>2007.8157534246575</td>\n",
       "      <td>None</td>\n",
       "      <td>None</td>\n",
       "      <td>180921.19589041095</td>\n",
       "    </tr>\n",
       "    <tr>\n",
       "      <th>2</th>\n",
       "      <td>stddev</td>\n",
       "      <td>421.6100093688479</td>\n",
       "      <td>42.30057099381045</td>\n",
       "      <td>None</td>\n",
       "      <td>24.28475177448321</td>\n",
       "      <td>9981.26493237915</td>\n",
       "      <td>None</td>\n",
       "      <td>None</td>\n",
       "      <td>None</td>\n",
       "      <td>None</td>\n",
       "      <td>...</td>\n",
       "      <td>40.17730694453021</td>\n",
       "      <td>None</td>\n",
       "      <td>None</td>\n",
       "      <td>None</td>\n",
       "      <td>496.1230244579441</td>\n",
       "      <td>2.7036262083595113</td>\n",
       "      <td>1.3280951205521145</td>\n",
       "      <td>None</td>\n",
       "      <td>None</td>\n",
       "      <td>79442.50288288663</td>\n",
       "    </tr>\n",
       "    <tr>\n",
       "      <th>3</th>\n",
       "      <td>min</td>\n",
       "      <td>1</td>\n",
       "      <td>20</td>\n",
       "      <td>C (all)</td>\n",
       "      <td>100</td>\n",
       "      <td>1300</td>\n",
       "      <td>Grvl</td>\n",
       "      <td>Grvl</td>\n",
       "      <td>IR1</td>\n",
       "      <td>Bnk</td>\n",
       "      <td>...</td>\n",
       "      <td>0</td>\n",
       "      <td>Ex</td>\n",
       "      <td>GdPrv</td>\n",
       "      <td>Gar2</td>\n",
       "      <td>0</td>\n",
       "      <td>1</td>\n",
       "      <td>2006</td>\n",
       "      <td>COD</td>\n",
       "      <td>Abnorml</td>\n",
       "      <td>34900</td>\n",
       "    </tr>\n",
       "    <tr>\n",
       "      <th>4</th>\n",
       "      <td>max</td>\n",
       "      <td>1460</td>\n",
       "      <td>190</td>\n",
       "      <td>RM</td>\n",
       "      <td>NA</td>\n",
       "      <td>215245</td>\n",
       "      <td>Pave</td>\n",
       "      <td>Pave</td>\n",
       "      <td>Reg</td>\n",
       "      <td>Lvl</td>\n",
       "      <td>...</td>\n",
       "      <td>738</td>\n",
       "      <td>NA</td>\n",
       "      <td>NA</td>\n",
       "      <td>TenC</td>\n",
       "      <td>15500</td>\n",
       "      <td>12</td>\n",
       "      <td>2010</td>\n",
       "      <td>WD</td>\n",
       "      <td>Partial</td>\n",
       "      <td>755000</td>\n",
       "    </tr>\n",
       "  </tbody>\n",
       "</table>\n",
       "<p>5 rows × 82 columns</p>\n",
       "</div>"
      ],
      "text/plain": [
       "  summary                 Id          MSSubClass MSZoning        LotFrontage  \\\n",
       "0   count               1460                1460     1460               1460   \n",
       "1    mean              730.5  56.897260273972606     None  70.04995836802665   \n",
       "2  stddev  421.6100093688479   42.30057099381045     None  24.28475177448321   \n",
       "3     min                  1                  20  C (all)                100   \n",
       "4     max               1460                 190       RM                 NA   \n",
       "\n",
       "              LotArea Street Alley LotShape LandContour  ...  \\\n",
       "0                1460   1460  1460     1460        1460  ...   \n",
       "1  10516.828082191782   None  None     None        None  ...   \n",
       "2    9981.26493237915   None  None     None        None  ...   \n",
       "3                1300   Grvl  Grvl      IR1         Bnk  ...   \n",
       "4              215245   Pave  Pave      Reg         Lvl  ...   \n",
       "\n",
       "            PoolArea PoolQC  Fence MiscFeature             MiscVal  \\\n",
       "0               1460   1460   1460        1460                1460   \n",
       "1  2.758904109589041   None   None        None  43.489041095890414   \n",
       "2  40.17730694453021   None   None        None   496.1230244579441   \n",
       "3                  0     Ex  GdPrv        Gar2                   0   \n",
       "4                738     NA     NA        TenC               15500   \n",
       "\n",
       "               MoSold              YrSold SaleType SaleCondition  \\\n",
       "0                1460                1460     1460          1460   \n",
       "1   6.321917808219178  2007.8157534246575     None          None   \n",
       "2  2.7036262083595113  1.3280951205521145     None          None   \n",
       "3                   1                2006      COD       Abnorml   \n",
       "4                  12                2010       WD       Partial   \n",
       "\n",
       "            SalePrice  \n",
       "0                1460  \n",
       "1  180921.19589041095  \n",
       "2   79442.50288288663  \n",
       "3               34900  \n",
       "4              755000  \n",
       "\n",
       "[5 rows x 82 columns]"
      ]
     },
     "execution_count": 16,
     "metadata": {},
     "output_type": "execute_result"
    }
   ],
   "source": [
    "train_data_base.describe().toPandas()"
   ]
  },
  {
   "cell_type": "code",
   "execution_count": 4,
   "id": "ongoing-speed",
   "metadata": {},
   "outputs": [],
   "source": [
    "# add data to the catalog\n",
    "train_data_base.createOrReplaceTempView(\"temp\")"
   ]
  },
  {
   "cell_type": "code",
   "execution_count": 5,
   "id": "naked-basketball",
   "metadata": {},
   "outputs": [
    {
     "data": {
      "text/plain": [
       "[Table(name='temp', database=None, description=None, tableType='TEMPORARY', isTemporary=True)]"
      ]
     },
     "execution_count": 5,
     "metadata": {},
     "output_type": "execute_result"
    }
   ],
   "source": [
    "spark.catalog.listTables()"
   ]
  },
  {
   "cell_type": "code",
   "execution_count": 7,
   "id": "trained-expert",
   "metadata": {},
   "outputs": [
    {
     "name": "stdout",
     "output_type": "stream",
     "text": [
      "+---+-----------+-----+\n",
      "| Id|LotFrontage|Alley|\n",
      "+---+-----------+-----+\n",
      "|  1|         65|   NA|\n",
      "|  2|         80|   NA|\n",
      "|  3|         68|   NA|\n",
      "|  4|         60|   NA|\n",
      "|  5|         84|   NA|\n",
      "|  6|         85|   NA|\n",
      "|  7|         75|   NA|\n",
      "|  8|         NA|   NA|\n",
      "|  9|         51|   NA|\n",
      "| 10|         50|   NA|\n",
      "+---+-----------+-----+\n",
      "\n"
     ]
    }
   ],
   "source": [
    "# run a simple query\n",
    "spark.sql(\"SELECT Id, LotFrontage, Alley FROM temp LIMIT 10\").show()"
   ]
  },
  {
   "cell_type": "code",
   "execution_count": 20,
   "id": "julian-reasoning",
   "metadata": {},
   "outputs": [],
   "source": [
    "expensive_houses = train_data_base.select(\"Id\", \"LotFrontage\", \"SalePrice\", \"YearBuilt\", \"YrSold\")\\\n",
    "    .filter(expensive_houses.SalePrice > 500000)"
   ]
  },
  {
   "cell_type": "code",
   "execution_count": 21,
   "id": "taken-addition",
   "metadata": {},
   "outputs": [
    {
     "name": "stdout",
     "output_type": "stream",
     "text": [
      "+----+-----------+---------+---------+------+\n",
      "|  Id|LotFrontage|SalePrice|YearBuilt|YrSold|\n",
      "+----+-----------+---------+---------+------+\n",
      "| 179|         63|   501837|     2008|  2009|\n",
      "| 441|        105|   555000|     2008|  2009|\n",
      "| 692|        104|   755000|     1994|  2007|\n",
      "| 770|         47|   538000|     2003|  2010|\n",
      "| 804|        107|   582933|     2008|  2009|\n",
      "| 899|        100|   611657|     2009|  2010|\n",
      "|1047|         85|   556581|     2005|  2006|\n",
      "|1170|        118|   625000|     1995|  2006|\n",
      "|1183|        160|   745000|     1996|  2007|\n",
      "+----+-----------+---------+---------+------+\n",
      "\n"
     ]
    }
   ],
   "source": [
    "expensive_houses.show(10)"
   ]
  },
  {
   "cell_type": "code",
   "execution_count": 24,
   "id": "direct-utilization",
   "metadata": {},
   "outputs": [
    {
     "name": "stdout",
     "output_type": "stream",
     "text": [
      "+----+-----------+---------+---------+------+-------+\n",
      "|  Id|LotFrontage|SalePrice|YearBuilt|YrSold|AgeSold|\n",
      "+----+-----------+---------+---------+------+-------+\n",
      "| 179|         63|   501837|     2008|  2009|      1|\n",
      "| 441|        105|   555000|     2008|  2009|      1|\n",
      "| 692|        104|   755000|     1994|  2007|     13|\n",
      "| 770|         47|   538000|     2003|  2010|      7|\n",
      "| 804|        107|   582933|     2008|  2009|      1|\n",
      "| 899|        100|   611657|     2009|  2010|      1|\n",
      "|1047|         85|   556581|     2005|  2006|      1|\n",
      "|1170|        118|   625000|     1995|  2006|     11|\n",
      "|1183|        160|   745000|     1996|  2007|     11|\n",
      "+----+-----------+---------+---------+------+-------+\n",
      "\n"
     ]
    }
   ],
   "source": [
    "expensive_houses = expensive_houses.withColumn(\"AgeSold\", expensive_houses.YrSold-expensive_houses.YearBuilt)\n",
    "expensive_houses.show()"
   ]
  },
  {
   "cell_type": "markdown",
   "id": "designing-connection",
   "metadata": {},
   "source": [
    "## ML Model"
   ]
  },
  {
   "cell_type": "code",
   "execution_count": 23,
   "id": "focal-glossary",
   "metadata": {},
   "outputs": [],
   "source": [
    "# find all numerical columns\n",
    "num_features = [col_name for col_name, dtype in train_data_base.dtypes if dtype == \"int\"]\n",
    "\n",
    "# remove SalePrice, which is the target\n",
    "num_features.remove(\"SalePrice\")"
   ]
  },
  {
   "cell_type": "code",
   "execution_count": 27,
   "id": "restricted-radiation",
   "metadata": {},
   "outputs": [],
   "source": [
    "# split validation data\n",
    "training, validation = train_data_base.randomSplit([.7, .3])"
   ]
  },
  {
   "cell_type": "code",
   "execution_count": 51,
   "id": "statutory-observation",
   "metadata": {},
   "outputs": [],
   "source": [
    "train = training.select(*num_features, \"SalePrice\")\n",
    "val = validation.select(*num_features, \"SalePrice\")\n",
    "test = test_data_base.select(*num_features)"
   ]
  },
  {
   "cell_type": "code",
   "execution_count": 78,
   "id": "potential-fiction",
   "metadata": {},
   "outputs": [],
   "source": [
    "for feat in num_features:\n",
    "    train = train.withColumn(feat, train[feat].cast(DoubleType()))\n",
    "    val = val.withColumn(feat, val[feat].cast(DoubleType()))\n",
    "    test = test.withColumn(feat, test[feat].cast(DoubleType()))"
   ]
  },
  {
   "cell_type": "code",
   "execution_count": 77,
   "id": "outside-immunology",
   "metadata": {},
   "outputs": [
    {
     "name": "stdout",
     "output_type": "stream",
     "text": [
      "root\n",
      " |-- Id: double (nullable = true)\n",
      " |-- MSSubClass: double (nullable = true)\n",
      " |-- LotArea: double (nullable = true)\n",
      " |-- OverallQual: double (nullable = true)\n",
      " |-- OverallCond: double (nullable = true)\n",
      " |-- YearBuilt: double (nullable = true)\n",
      " |-- YearRemodAdd: double (nullable = true)\n",
      " |-- BsmtFinSF1: double (nullable = true)\n",
      " |-- BsmtFinSF2: double (nullable = true)\n",
      " |-- BsmtUnfSF: double (nullable = true)\n",
      " |-- TotalBsmtSF: double (nullable = true)\n",
      " |-- 1stFlrSF: double (nullable = true)\n",
      " |-- 2ndFlrSF: double (nullable = true)\n",
      " |-- LowQualFinSF: double (nullable = true)\n",
      " |-- GrLivArea: double (nullable = true)\n",
      " |-- BsmtFullBath: double (nullable = true)\n",
      " |-- BsmtHalfBath: double (nullable = true)\n",
      " |-- FullBath: double (nullable = true)\n",
      " |-- HalfBath: double (nullable = true)\n",
      " |-- BedroomAbvGr: double (nullable = true)\n",
      " |-- KitchenAbvGr: double (nullable = true)\n",
      " |-- TotRmsAbvGrd: double (nullable = true)\n",
      " |-- Fireplaces: double (nullable = true)\n",
      " |-- GarageCars: double (nullable = true)\n",
      " |-- GarageArea: double (nullable = true)\n",
      " |-- WoodDeckSF: double (nullable = true)\n",
      " |-- OpenPorchSF: double (nullable = true)\n",
      " |-- EnclosedPorch: double (nullable = true)\n",
      " |-- 3SsnPorch: double (nullable = true)\n",
      " |-- ScreenPorch: double (nullable = true)\n",
      " |-- PoolArea: double (nullable = true)\n",
      " |-- MiscVal: double (nullable = true)\n",
      " |-- MoSold: double (nullable = true)\n",
      " |-- YrSold: double (nullable = true)\n",
      " |-- SalePrice: integer (nullable = true)\n",
      "\n"
     ]
    }
   ],
   "source": [
    "train.printSchema()"
   ]
  },
  {
   "cell_type": "code",
   "execution_count": 79,
   "id": "japanese-nudist",
   "metadata": {},
   "outputs": [],
   "source": [
    "num_features_imp = [feat+\"_imp\" for feat in num_features]"
   ]
  },
  {
   "cell_type": "code",
   "execution_count": 80,
   "id": "requested-adobe",
   "metadata": {},
   "outputs": [],
   "source": [
    "imputer = Imputer(inputCols=num_features, outputCols=num_features_imp)"
   ]
  },
  {
   "cell_type": "code",
   "execution_count": 81,
   "id": "valid-basket",
   "metadata": {},
   "outputs": [],
   "source": [
    "vec_assembler = VectorAssembler(inputCols=num_features_imp, outputCol=\"features\")"
   ]
  },
  {
   "cell_type": "code",
   "execution_count": 82,
   "id": "narrow-liquid",
   "metadata": {},
   "outputs": [],
   "source": [
    "pipe = Pipeline(stages=[imputer, vec_assembler])"
   ]
  },
  {
   "cell_type": "code",
   "execution_count": 83,
   "id": "accredited-commerce",
   "metadata": {},
   "outputs": [],
   "source": [
    "train_transf = pipe.fit(train).transform(train)"
   ]
  },
  {
   "cell_type": "code",
   "execution_count": 59,
   "id": "solved-snowboard",
   "metadata": {},
   "outputs": [
    {
     "data": {
      "text/plain": [
       "pyspark.sql.dataframe.DataFrame"
      ]
     },
     "execution_count": 59,
     "metadata": {},
     "output_type": "execute_result"
    }
   ],
   "source": []
  },
  {
   "cell_type": "code",
   "execution_count": null,
   "id": "skilled-colleague",
   "metadata": {},
   "outputs": [],
   "source": [
    "regression = RidgeRegressionWithSGD()"
   ]
  }
 ],
 "metadata": {
  "kernelspec": {
   "display_name": "Python 3",
   "language": "python",
   "name": "python3"
  },
  "language_info": {
   "codemirror_mode": {
    "name": "ipython",
    "version": 3
   },
   "file_extension": ".py",
   "mimetype": "text/x-python",
   "name": "python",
   "nbconvert_exporter": "python",
   "pygments_lexer": "ipython3",
   "version": "3.7.10"
  }
 },
 "nbformat": 4,
 "nbformat_minor": 5
}
